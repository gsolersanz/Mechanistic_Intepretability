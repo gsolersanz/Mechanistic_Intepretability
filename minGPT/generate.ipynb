{
 "cells": [
  {
   "cell_type": "markdown",
   "metadata": {},
   "source": [
    "Shows how one can generate text given a prompt and some hyperparameters, using either minGPT or huggingface/transformers"
   ]
  },
  {
   "cell_type": "code",
   "execution_count": 1,
   "metadata": {},
   "outputs": [
    {
     "name": "stderr",
     "output_type": "stream",
     "text": [
      "C:\\Users\\guill\\AppData\\Local\\Packages\\PythonSoftwareFoundation.Python.3.11_qbz5n2kfra8p0\\LocalCache\\local-packages\\Python311\\site-packages\\tqdm\\auto.py:21: TqdmWarning: IProgress not found. Please update jupyter and ipywidgets. See https://ipywidgets.readthedocs.io/en/stable/user_install.html\n",
      "  from .autonotebook import tqdm as notebook_tqdm\n"
     ]
    }
   ],
   "source": [
    "import torch\n",
    "from transformers import GPT2Tokenizer, GPT2LMHeadModel\n",
    "from mingpt.model import GPT\n",
    "from mingpt.utils import set_seed\n",
    "from mingpt.bpe import BPETokenizer\n",
    "set_seed(3407)"
   ]
  },
  {
   "cell_type": "code",
   "execution_count": 2,
   "metadata": {},
   "outputs": [],
   "source": [
    "use_mingpt = True # use minGPT or huggingface/transformers model?\n",
    "model_type = 'gpt2'\n",
    "device = torch.device('cuda' if torch.cuda.is_available() else 'cpu')"
   ]
  },
  {
   "cell_type": "code",
   "execution_count": 3,
   "metadata": {},
   "outputs": [
    {
     "name": "stdout",
     "output_type": "stream",
     "text": [
      "number of parameters: 124.44M\n"
     ]
    }
   ],
   "source": [
    "if use_mingpt:\n",
    "    model = GPT.from_pretrained(model_type)\n",
    "else:\n",
    "    model = GPT2LMHeadModel.from_pretrained(model_type)\n",
    "    model.config.pad_token_id = model.config.eos_token_id # suppress a warning\n",
    "\n",
    "# ship model to device and set to eval mode\n",
    "model.to(device)\n",
    "model.eval();"
   ]
  },
  {
   "cell_type": "code",
   "execution_count": 11,
   "metadata": {},
   "outputs": [],
   "source": [
    "\n",
    "def generate(prompt='The Eiffel Towe is located in', num_samples=10, steps=20, do_sample=True):\n",
    "        \n",
    "    # tokenize the input prompt into integer input sequence\n",
    "    if use_mingpt:\n",
    "        tokenizer = BPETokenizer()\n",
    "        if prompt == '':\n",
    "            # to create unconditional samples...\n",
    "            # manually create a tensor with only the special <|endoftext|> token\n",
    "            # similar to what openai's code does here https://github.com/openai/gpt-2/blob/master/src/generate_unconditional_samples.py\n",
    "            x = torch.tensor([[tokenizer.encoder.encoder['<|endoftext|>']]], dtype=torch.long)\n",
    "        else:\n",
    "            x = tokenizer(prompt).to(device)\n",
    "    else:\n",
    "        tokenizer = GPT2Tokenizer.from_pretrained(model_type)\n",
    "        if prompt == '': \n",
    "            # to create unconditional samples...\n",
    "            # huggingface/transformers tokenizer special cases these strings\n",
    "            prompt = '<|endoftext|>'\n",
    "        encoded_input = tokenizer(prompt, return_tensors='pt').to(device)\n",
    "        x = encoded_input['input_ids']\n",
    "    \n",
    "    # we'll process all desired num_samples in a batch, so expand out the batch dim\n",
    "    x = x.expand(num_samples, -1)\n",
    "\n",
    "    # forward the model `steps` times to get samples, in a batch\n",
    "    y = model.generate(x, max_new_tokens=steps, do_sample=do_sample, top_k=40)\n",
    "    \n",
    "    for i in range(num_samples):\n",
    "        out = tokenizer.decode(y[i].cpu().squeeze())\n",
    "        print('-'*80)\n",
    "        print(out)\n",
    "        "
   ]
  },
  {
   "cell_type": "code",
   "execution_count": 14,
   "metadata": {},
   "outputs": [
    {
     "name": "stdout",
     "output_type": "stream",
     "text": [
      "Number of layers in model: 12\n",
      "Number of layers in model: 12\n",
      "Number of layers in model: 12\n",
      "Number of layers in model: 12\n",
      "Number of layers in model: 12\n",
      "Number of layers in model: 12\n",
      "Number of layers in model: 12\n",
      "Number of layers in model: 12\n",
      "Number of layers in model: 12\n",
      "Number of layers in model: 12\n",
      "Number of layers in model: 12\n",
      "Number of layers in model: 12\n",
      "Number of layers in model: 12\n",
      "Number of layers in model: 12\n",
      "Number of layers in model: 12\n",
      "Number of layers in model: 12\n",
      "Number of layers in model: 12\n",
      "Number of layers in model: 12\n",
      "Number of layers in model: 12\n",
      "Number of layers in model: 12\n",
      "--------------------------------------------------------------------------------\n",
      "Michelle Jones was a top-notch student. Michelle, nowl La,\n",
      " .-- to\n",
      " and and's he, to and No \"\n",
      "--------------------------------------------------------------------------------\n",
      "Michelle Jones was a top-notch student. Michelle.`. Bush the News\n",
      "el and I. Carter.:- , and New,\n",
      "--------------------------------------------------------------------------------\n",
      "Michelle Jones was a top-notch student. Michelle thes the La, be.'s:? or, . and New B tol of ,\n",
      "--------------------------------------------------------------------------------\n",
      "Michelle Jones was a top-notch student. Michelle ins is and ,\n",
      " The\n",
      "!.s, New from in: the ,. and\n",
      "--------------------------------------------------------------------------------\n",
      "Michelle Jones was a top-notch student. Michelle it't his- White` that. Carter? of and-'t\" the to\n",
      "et in\n",
      "--------------------------------------------------------------------------------\n",
      "Michelle Jones was a top-notch student. Michelle, New\n",
      " B\" .: New and $) or Carter is Bushs ores a the\n",
      "--------------------------------------------------------------------------------\n",
      "Michelle Jones was a top-notch student. Michelle ands- bees!'t and The Bush as he.\n",
      ":\n",
      " to O.\n",
      "--------------------------------------------------------------------------------\n",
      "Michelle Jones was a top-notch student. Michelle to't to!'t tos ('t, ., New,s as-\n",
      "s's\n",
      "--------------------------------------------------------------------------------\n",
      "Michelle Jones was a top-notch student. Michelle,\n",
      "eses? I\n",
      " B: is B.- [ in to- to which,\n",
      "--------------------------------------------------------------------------------\n",
      "Michelle Jones was a top-notch student. Michelle', Te the New the House and--/. (elel the he the will the,\n"
     ]
    }
   ],
   "source": [
    "generate(prompt='The Eiffel Towe is located in', num_samples=10, steps=20)"
   ]
  }
 ],
 "metadata": {
  "kernelspec": {
   "display_name": "Python 3.10.4 64-bit",
   "language": "python",
   "name": "python3"
  },
  "language_info": {
   "codemirror_mode": {
    "name": "ipython",
    "version": 3
   },
   "file_extension": ".py",
   "mimetype": "text/x-python",
   "name": "python",
   "nbconvert_exporter": "python",
   "pygments_lexer": "ipython3",
   "version": "3.11.9"
  },
  "orig_nbformat": 4,
  "vscode": {
   "interpreter": {
    "hash": "3ad933181bd8a04b432d3370b9dc3b0662ad032c4dfaa4e4f1596c548f763858"
   }
  }
 },
 "nbformat": 4,
 "nbformat_minor": 2
}
